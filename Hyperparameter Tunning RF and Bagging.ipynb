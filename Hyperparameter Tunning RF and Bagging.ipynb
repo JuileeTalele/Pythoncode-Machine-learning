{
 "cells": [
  {
   "cell_type": "markdown",
   "metadata": {},
   "source": [
    "D19012 Juilee Talele - Hyperparameter tunning"
   ]
  },
  {
   "cell_type": "markdown",
   "metadata": {},
   "source": [
    "### Part 1 : Hyperparameter tuning for Random Forest model"
   ]
  },
  {
   "cell_type": "markdown",
   "metadata": {},
   "source": [
    "Parameters in random forest are either to increase the predictive power of the model or to make it easier to train the model. Following are the parameters we will be talking about in more details :\n",
    "\n",
    "1. max_features:\n",
    "\n",
    "These are the maximum number of features Random Forest is allowed to try in individual tree. There are multiple options available in Python to assign maximum features. Here are a few of them :\n",
    "\n",
    "Auto/None : This will simply take all the features which make sense in every tree.Here we simply do not put any restrictions on the individual tree.\n",
    "sqrt : This option will take square root of the total number of features in individual run. For instance, if the total number of variables are 100, we can only take 10 of them in individual tree.”log2″ is another similar type of option for max_features.\n",
    "0.2 : This option allows the random forest to take 20% of variables in individual run. We can assign and value in a format “0.x” where we want x% of features to be considered.\n",
    "\n",
    "How does “max_features” impact performance and speed?\n",
    "\n",
    "Increasing max_features generally improves the performance of the model as at each node now we have a higher number of options to be considered. However, this is not necessarily true as this decreases the diversity of individual tree which is the USP of random forest. But, for sure, you decrease the speed of algorithm by increasing the max_features. Hence, you need to strike the right balance and choose the optimal max_features.\n",
    "\n",
    "2. n_estimators :\n",
    "\n",
    "This is the number of trees you want to build before taking the maximum voting or averages of predictions. Higher number of trees give you better performance but makes your code slower. You should choose as high value as your processor can handle because this makes your predictions stronger and more stable.\n",
    "\n",
    "3. min_sample_leaf :\n",
    "\n",
    "If you have built a decision tree before, you can appreciate the importance of minimum sample leaf size. Leaf is the end node of a decision tree. A smaller leaf makes the model more prone to capturing noise in train data. Generally I prefer a minimum leaf size of more than 50. However, you should try multiple leaf sizes to find the most optimum for your use case.\n",
    "\n",
    "4. max_depth: \n",
    "\n",
    "The max_depth parameter specifies the maximum depth of each tree. The default value for max_depth is None, which means that each tree will expand until every leaf is pure. A pure leaf is one where all of the data on the leaf comes from the same class.\n",
    "\n",
    "5. min_samples_split: \n",
    "\n",
    "The min_samples_split parameter specifies the minimum number of samples required to split an internal leaf node. The default value for this parameter is 2, which means that an internal node must have at least two samples before it can be split to have a more specific classification.\n",
    "\n",
    "\n",
    "Also note : Hyperparameter tuning can be advantageous in creating a model that is better at classification. In the case of a random forest, it may not be necessary, as random forests are already very good at classification. \n",
    "\n",
    "\n",
    "#### Carefully and methodically adjusting hyperparameters can be advantageous. It can make your classification model more accurate, which will lead to more accurate predictions overall. Let's verify by tuning some parameters :"
   ]
  },
  {
   "cell_type": "code",
   "execution_count": 1,
   "metadata": {},
   "outputs": [],
   "source": [
    "# Load the library with the iris dataset\n",
    "from sklearn.datasets import load_iris\n",
    "\n",
    "# Load scikit's random forest classifier library\n",
    "from sklearn.ensemble import RandomForestClassifier\n",
    "\n",
    "from sklearn.model_selection import train_test_split\n",
    "\n",
    "from sklearn.metrics import accuracy_score\n",
    "\n",
    "from sklearn.metrics import roc_auc_score\n",
    "\n",
    "# Load pandas\n",
    "import pandas as pd\n",
    "\n",
    "# Load numpy\n",
    "import numpy as np\n",
    "\n",
    "# Set random seed\n",
    "np.random.seed(0)\n",
    "\n",
    "import os"
   ]
  },
  {
   "cell_type": "code",
   "execution_count": 2,
   "metadata": {},
   "outputs": [],
   "source": [
    "os.chdir(r\"C:\\Users\\lenovo\\Desktop\\Praxis\\Practice_doc\\Python\")"
   ]
  },
  {
   "cell_type": "code",
   "execution_count": 3,
   "metadata": {},
   "outputs": [],
   "source": [
    "df= pd.read_csv(\"winequality.csv\")"
   ]
  },
  {
   "cell_type": "code",
   "execution_count": 4,
   "metadata": {},
   "outputs": [
    {
     "data": {
      "text/html": [
       "<div>\n",
       "<style scoped>\n",
       "    .dataframe tbody tr th:only-of-type {\n",
       "        vertical-align: middle;\n",
       "    }\n",
       "\n",
       "    .dataframe tbody tr th {\n",
       "        vertical-align: top;\n",
       "    }\n",
       "\n",
       "    .dataframe thead th {\n",
       "        text-align: right;\n",
       "    }\n",
       "</style>\n",
       "<table border=\"1\" class=\"dataframe\">\n",
       "  <thead>\n",
       "    <tr style=\"text-align: right;\">\n",
       "      <th></th>\n",
       "      <th>fixed acidity</th>\n",
       "      <th>volatile acidity</th>\n",
       "      <th>citric acid</th>\n",
       "      <th>residual sugar</th>\n",
       "      <th>chlorides</th>\n",
       "      <th>free sulfur dioxide</th>\n",
       "      <th>total sulfur dioxide</th>\n",
       "      <th>density</th>\n",
       "      <th>pH</th>\n",
       "      <th>sulphates</th>\n",
       "      <th>alcohol</th>\n",
       "      <th>quality</th>\n",
       "    </tr>\n",
       "  </thead>\n",
       "  <tbody>\n",
       "    <tr>\n",
       "      <th>0</th>\n",
       "      <td>7.4</td>\n",
       "      <td>0.70</td>\n",
       "      <td>0.00</td>\n",
       "      <td>1.9</td>\n",
       "      <td>0.076</td>\n",
       "      <td>11.0</td>\n",
       "      <td>34.0</td>\n",
       "      <td>0.9978</td>\n",
       "      <td>3.51</td>\n",
       "      <td>0.56</td>\n",
       "      <td>9.4</td>\n",
       "      <td>5</td>\n",
       "    </tr>\n",
       "    <tr>\n",
       "      <th>1</th>\n",
       "      <td>7.8</td>\n",
       "      <td>0.88</td>\n",
       "      <td>0.00</td>\n",
       "      <td>2.6</td>\n",
       "      <td>0.098</td>\n",
       "      <td>25.0</td>\n",
       "      <td>67.0</td>\n",
       "      <td>0.9968</td>\n",
       "      <td>3.20</td>\n",
       "      <td>0.68</td>\n",
       "      <td>9.8</td>\n",
       "      <td>5</td>\n",
       "    </tr>\n",
       "    <tr>\n",
       "      <th>2</th>\n",
       "      <td>7.8</td>\n",
       "      <td>0.76</td>\n",
       "      <td>0.04</td>\n",
       "      <td>2.3</td>\n",
       "      <td>0.092</td>\n",
       "      <td>15.0</td>\n",
       "      <td>54.0</td>\n",
       "      <td>0.9970</td>\n",
       "      <td>3.26</td>\n",
       "      <td>0.65</td>\n",
       "      <td>9.8</td>\n",
       "      <td>5</td>\n",
       "    </tr>\n",
       "    <tr>\n",
       "      <th>3</th>\n",
       "      <td>11.2</td>\n",
       "      <td>0.28</td>\n",
       "      <td>0.56</td>\n",
       "      <td>1.9</td>\n",
       "      <td>0.075</td>\n",
       "      <td>17.0</td>\n",
       "      <td>60.0</td>\n",
       "      <td>0.9980</td>\n",
       "      <td>3.16</td>\n",
       "      <td>0.58</td>\n",
       "      <td>9.8</td>\n",
       "      <td>6</td>\n",
       "    </tr>\n",
       "    <tr>\n",
       "      <th>4</th>\n",
       "      <td>7.4</td>\n",
       "      <td>0.70</td>\n",
       "      <td>0.00</td>\n",
       "      <td>1.9</td>\n",
       "      <td>0.076</td>\n",
       "      <td>11.0</td>\n",
       "      <td>34.0</td>\n",
       "      <td>0.9978</td>\n",
       "      <td>3.51</td>\n",
       "      <td>0.56</td>\n",
       "      <td>9.4</td>\n",
       "      <td>5</td>\n",
       "    </tr>\n",
       "  </tbody>\n",
       "</table>\n",
       "</div>"
      ],
      "text/plain": [
       "   fixed acidity  volatile acidity  citric acid  residual sugar  chlorides  \\\n",
       "0            7.4              0.70         0.00             1.9      0.076   \n",
       "1            7.8              0.88         0.00             2.6      0.098   \n",
       "2            7.8              0.76         0.04             2.3      0.092   \n",
       "3           11.2              0.28         0.56             1.9      0.075   \n",
       "4            7.4              0.70         0.00             1.9      0.076   \n",
       "\n",
       "   free sulfur dioxide  total sulfur dioxide  density    pH  sulphates  \\\n",
       "0                 11.0                  34.0   0.9978  3.51       0.56   \n",
       "1                 25.0                  67.0   0.9968  3.20       0.68   \n",
       "2                 15.0                  54.0   0.9970  3.26       0.65   \n",
       "3                 17.0                  60.0   0.9980  3.16       0.58   \n",
       "4                 11.0                  34.0   0.9978  3.51       0.56   \n",
       "\n",
       "   alcohol  quality  \n",
       "0      9.4        5  \n",
       "1      9.8        5  \n",
       "2      9.8        5  \n",
       "3      9.8        6  \n",
       "4      9.4        5  "
      ]
     },
     "execution_count": 4,
     "metadata": {},
     "output_type": "execute_result"
    }
   ],
   "source": [
    "df.head()"
   ]
  },
  {
   "cell_type": "code",
   "execution_count": 5,
   "metadata": {
    "scrolled": false
   },
   "outputs": [
    {
     "data": {
      "text/plain": [
       "array([5, 6, 7, 4, 8, 3], dtype=int64)"
      ]
     },
     "execution_count": 5,
     "metadata": {},
     "output_type": "execute_result"
    }
   ],
   "source": [
    "df['quality'].unique()"
   ]
  },
  {
   "cell_type": "code",
   "execution_count": 6,
   "metadata": {},
   "outputs": [
    {
     "data": {
      "text/plain": [
       "0    1382\n",
       "1     217\n",
       "Name: quality, dtype: int64"
      ]
     },
     "execution_count": 6,
     "metadata": {},
     "output_type": "execute_result"
    }
   ],
   "source": [
    "def tasty(quality):\n",
    "    if quality > 6:\n",
    "        return 1\n",
    "    else:\n",
    "        return 0\n",
    "\n",
    "df['quality'] = df['quality'].apply(tasty)\n",
    "df['quality'].value_counts()"
   ]
  },
  {
   "cell_type": "code",
   "execution_count": 7,
   "metadata": {},
   "outputs": [],
   "source": [
    "y = df['quality']\n",
    "x = df.drop('quality', axis = 1)"
   ]
  },
  {
   "cell_type": "code",
   "execution_count": 8,
   "metadata": {},
   "outputs": [],
   "source": [
    "## Balancing the dataset using SMOTE\n",
    "\n",
    "from imblearn.over_sampling import SMOTE\n",
    "\n",
    "sm = SMOTE(random_state=42)\n",
    "x_res, y_res = sm.fit_sample(x,y)\n",
    "\n",
    "import sklearn\n",
    "\n",
    "x_train,x_test,y_train,y_test = sklearn.model_selection.train_test_split(x_res,y_res,test_size = 0.3, random_state = 50)\n"
   ]
  },
  {
   "cell_type": "markdown",
   "metadata": {},
   "source": [
    "#### Let's fit a model on all default parameters and observe the output"
   ]
  },
  {
   "cell_type": "code",
   "execution_count": 9,
   "metadata": {},
   "outputs": [
    {
     "data": {
      "text/plain": [
       "RandomForestClassifier(bootstrap=True, ccp_alpha=0.0, class_weight=None,\n",
       "                       criterion='gini', max_depth=None, max_features='auto',\n",
       "                       max_leaf_nodes=None, max_samples=None,\n",
       "                       min_impurity_decrease=0.0, min_impurity_split=None,\n",
       "                       min_samples_leaf=1, min_samples_split=2,\n",
       "                       min_weight_fraction_leaf=0.0, n_estimators=100,\n",
       "                       n_jobs=None, oob_score=False, random_state=None,\n",
       "                       verbose=0, warm_start=False)"
      ]
     },
     "execution_count": 9,
     "metadata": {},
     "output_type": "execute_result"
    }
   ],
   "source": [
    "# Create a random forest Classifier. By convention, clf means 'Classifier'\n",
    "clf = RandomForestClassifier()        # NOTE : Without giving any parameters (Model will take all default values)\n",
    "\n",
    "# Train the Classifier to take the training features and learn how they relate\n",
    "# to the training y (the species)\n",
    "clf.fit(x_train, y_train)"
   ]
  },
  {
   "cell_type": "code",
   "execution_count": 10,
   "metadata": {},
   "outputs": [],
   "source": [
    "# Apply the Classifier we trained to the test data (which, remember, it has never seen before)\n",
    "pred_y = clf.predict(x_test)"
   ]
  },
  {
   "cell_type": "code",
   "execution_count": 11,
   "metadata": {},
   "outputs": [
    {
     "data": {
      "text/plain": [
       "0.9289156626506024"
      ]
     },
     "execution_count": 11,
     "metadata": {},
     "output_type": "execute_result"
    }
   ],
   "source": [
    "# To check the accuracy of the model\n",
    "#score = accuracy_score(y_test, y_score,normalize=False)\n",
    "score = accuracy_score(y_test, pred_y)\n",
    "score"
   ]
  },
  {
   "cell_type": "markdown",
   "metadata": {},
   "source": [
    "#### NOTE : The accuracy without any parameter tunning is 68%"
   ]
  },
  {
   "cell_type": "markdown",
   "metadata": {},
   "source": [
    "#### Hyperparameter tunning for Random Forest Model :"
   ]
  },
  {
   "cell_type": "markdown",
   "metadata": {},
   "source": [
    "1. sample_leaf_options"
   ]
  },
  {
   "cell_type": "code",
   "execution_count": 12,
   "metadata": {},
   "outputs": [
    {
     "name": "stdout",
     "output_type": "stream",
     "text": [
      "\n",
      " Leaf size : 1\n",
      "Accuracy :  0.9253012048192771\n",
      "\n",
      " Leaf size : 2\n",
      "Accuracy :  0.9132530120481928\n",
      "\n",
      " Leaf size : 3\n",
      "Accuracy :  0.9204819277108434\n",
      "\n",
      " Leaf size : 4\n",
      "Accuracy :  0.9024096385542169\n",
      "\n",
      " Leaf size : 5\n",
      "Accuracy :  0.9048192771084337\n",
      "\n",
      " Leaf size : 10\n",
      "Accuracy :  0.8879518072289156\n",
      "\n",
      " Leaf size : 20\n",
      "Accuracy :  0.8566265060240964\n"
     ]
    }
   ],
   "source": [
    "# creating a list of different sample_leaf_options\n",
    "sample_leaf_options = [1,2,3,4,5,10,20]\n",
    "#sample_leaf_options = [1,20,50,100]\n",
    "\n",
    "# for loop to iterate for each sample_leaf_options\n",
    "for leaf_size in sample_leaf_options :\n",
    "    model = RandomForestClassifier(min_samples_leaf = leaf_size)\n",
    "    model = model.fit(x_train,y_train)\n",
    "    pred_y = model.predict(x_test)\n",
    "    print(\"\\n Leaf size :\", leaf_size)\n",
    "    print (\"Accuracy : \", accuracy_score(y_test,pred_y))\n",
    "#    print(pd.crosstab(y_test, y_score, rownames=['Actual Quality'], colnames=['Predicted Quality']))"
   ]
  },
  {
   "cell_type": "markdown",
   "metadata": {},
   "source": [
    "Observation : Leaf size 1 has maximum accuracy"
   ]
  },
  {
   "cell_type": "markdown",
   "metadata": {},
   "source": [
    "2. min_samples_split"
   ]
  },
  {
   "cell_type": "code",
   "execution_count": 13,
   "metadata": {},
   "outputs": [
    {
     "name": "stdout",
     "output_type": "stream",
     "text": [
      "\n",
      " min_samples_split: 2\n",
      "Accuracy :  0.927710843373494\n",
      "\n",
      " min_samples_split: 5\n",
      "Accuracy :  0.9265060240963855\n",
      "\n",
      " min_samples_split: 10\n",
      "Accuracy :  0.9228915662650602\n",
      "\n",
      " min_samples_split: 15\n",
      "Accuracy :  0.908433734939759\n",
      "\n",
      " min_samples_split: 100\n",
      "Accuracy :  0.8578313253012049\n",
      "\n",
      " min_samples_split: 200\n",
      "Accuracy :  0.8433734939759037\n"
     ]
    }
   ],
   "source": [
    "# creating a list of different min_samples_split\n",
    "min_samples_split = [2, 5, 10, 15, 100,200]\n",
    "\n",
    "# for loop to iterate for each min_samples_split\n",
    "for i in min_samples_split :\n",
    "    model = RandomForestClassifier(min_samples_split = i)\n",
    "    model = model.fit(x_train,y_train)\n",
    "    pred_y = model.predict(x_test)\n",
    "    print(\"\\n min_samples_split:\", i)\n",
    "    print (\"Accuracy : \", accuracy_score(y_test, pred_y))"
   ]
  },
  {
   "cell_type": "markdown",
   "metadata": {},
   "source": [
    "Observation : min_samples_split: 10 has highest accuracy"
   ]
  },
  {
   "cell_type": "markdown",
   "metadata": {},
   "source": [
    "3. n_estimators"
   ]
  },
  {
   "cell_type": "code",
   "execution_count": 14,
   "metadata": {},
   "outputs": [
    {
     "name": "stdout",
     "output_type": "stream",
     "text": [
      "\n",
      " n_estimators: 100\n",
      "Accuracy :  0.9265060240963855\n",
      "\n",
      " n_estimators: 300\n",
      "Accuracy :  0.9253012048192771\n",
      "\n",
      " n_estimators: 500\n",
      "Accuracy :  0.9228915662650602\n",
      "\n",
      " n_estimators: 800\n",
      "Accuracy :  0.9289156626506024\n",
      "\n",
      " n_estimators: 1200\n",
      "Accuracy :  0.9228915662650602\n"
     ]
    }
   ],
   "source": [
    "n_estimators = [100, 300, 500, 800, 1200]\n",
    "\n",
    "# for loop to iterate for each n_estimators\n",
    "for i in n_estimators :\n",
    "    model = RandomForestClassifier(n_estimators = i)\n",
    "    model = model.fit(x_train,y_train)\n",
    "    pred_y = model.predict(x_test)\n",
    "    print(\"\\n n_estimators:\", i)\n",
    "    print (\"Accuracy : \", accuracy_score(y_test, pred_y))"
   ]
  },
  {
   "cell_type": "markdown",
   "metadata": {},
   "source": [
    "Observation : n_estimators: 800 has highest accuracy"
   ]
  },
  {
   "cell_type": "markdown",
   "metadata": {},
   "source": [
    "4. max_depth"
   ]
  },
  {
   "cell_type": "code",
   "execution_count": 15,
   "metadata": {},
   "outputs": [
    {
     "name": "stdout",
     "output_type": "stream",
     "text": [
      "\n",
      " max_depth: 10\n",
      "Accuracy :  0.9168674698795181\n",
      "\n",
      " max_depth: 15\n",
      "Accuracy :  0.9337349397590361\n",
      "\n",
      " max_depth: 20\n",
      "Accuracy :  0.9216867469879518\n",
      "\n",
      " max_depth: 25\n",
      "Accuracy :  0.9253012048192771\n",
      "\n",
      " max_depth: 30\n",
      "Accuracy :  0.9325301204819277\n"
     ]
    }
   ],
   "source": [
    "max_depth = [10,15,20,25,30]\n",
    "\n",
    "# for loop to iterate for each n_estimators\n",
    "for i in max_depth :\n",
    "    model = RandomForestClassifier(max_depth = i)\n",
    "    model = model.fit(x_train,y_train)\n",
    "    pred_y = model.predict(x_test)\n",
    "    print(\"\\n max_depth:\", i)\n",
    "    print (\"Accuracy : \", accuracy_score(y_test, pred_y))"
   ]
  },
  {
   "cell_type": "markdown",
   "metadata": {},
   "source": [
    "Observation : max_depth: 30 has the highest accuracy"
   ]
  },
  {
   "cell_type": "markdown",
   "metadata": {},
   "source": [
    "#### Placing all the observed parameters together to get the overall accuracy"
   ]
  },
  {
   "cell_type": "code",
   "execution_count": 29,
   "metadata": {},
   "outputs": [
    {
     "name": "stdout",
     "output_type": "stream",
     "text": [
      "Accuracy :  0.9156626506024096\n"
     ]
    }
   ],
   "source": [
    "model = RandomForestClassifier(max_depth = 30, n_estimators = 800, min_samples_split = 10, min_samples_leaf= 1)\n",
    "model = model.fit(x_train,y_train)\n",
    "pred_y = model.predict(x_test)\n",
    "print (\"Accuracy : \", accuracy_score(y_test, pred_y))"
   ]
  },
  {
   "cell_type": "markdown",
   "metadata": {},
   "source": [
    "#### NOTE : After tunning the parameters of random forest model (hyperparameter)\n",
    "#### The accuracy of the model is increased by 0.052 "
   ]
  },
  {
   "cell_type": "markdown",
   "metadata": {},
   "source": [
    "   "
   ]
  },
  {
   "cell_type": "markdown",
   "metadata": {},
   "source": [
    "## Part 2 : Hyperparameter tunning for Bagging"
   ]
  },
  {
   "cell_type": "code",
   "execution_count": 17,
   "metadata": {},
   "outputs": [],
   "source": [
    "import os\n",
    "import pandas as pd\n",
    "import numpy as np\n",
    "import matplotlib.pyplot as plt\n",
    "import seaborn as sns\n",
    "import sklearn"
   ]
  },
  {
   "cell_type": "markdown",
   "metadata": {},
   "source": [
    "#### Initial model "
   ]
  },
  {
   "cell_type": "code",
   "execution_count": 18,
   "metadata": {},
   "outputs": [
    {
     "name": "stderr",
     "output_type": "stream",
     "text": [
      "C:\\Users\\lenovo\\Anaconda3\\lib\\site-packages\\sklearn\\ensemble\\_bagging.py:633: UserWarning: Some inputs do not have OOB scores. This probably means too few estimators were used to compute any reliable oob estimates.\n",
      "  warn(\"Some inputs do not have OOB scores. \"\n",
      "C:\\Users\\lenovo\\Anaconda3\\lib\\site-packages\\sklearn\\ensemble\\_bagging.py:638: RuntimeWarning: invalid value encountered in true_divide\n",
      "  predictions.sum(axis=1)[:, np.newaxis])\n"
     ]
    },
    {
     "data": {
      "text/plain": [
       "BaggingClassifier(base_estimator=DecisionTreeClassifier(ccp_alpha=0.0,\n",
       "                                                        class_weight=None,\n",
       "                                                        criterion='gini',\n",
       "                                                        max_depth=None,\n",
       "                                                        max_features=None,\n",
       "                                                        max_leaf_nodes=None,\n",
       "                                                        min_impurity_decrease=0.0,\n",
       "                                                        min_impurity_split=None,\n",
       "                                                        min_samples_leaf=1,\n",
       "                                                        min_samples_split=2,\n",
       "                                                        min_weight_fraction_leaf=0.0,\n",
       "                                                        presort='deprecated',\n",
       "                                                        random_state=None,\n",
       "                                                        splitter='best'),\n",
       "                  bootstrap=True, bootstrap_features=False, max_features=1.0,\n",
       "                  max_samples=1.0, n_estimators=10, n_jobs=None, oob_score=True,\n",
       "                  random_state=50, verbose=0, warm_start=False)"
      ]
     },
     "execution_count": 18,
     "metadata": {},
     "output_type": "execute_result"
    }
   ],
   "source": [
    "from sklearn.tree import DecisionTreeClassifier\n",
    "\n",
    "model = sklearn.ensemble.BaggingClassifier(base_estimator=DecisionTreeClassifier(),random_state=50, oob_score=True)\n",
    "model.fit(x_train,y_train)"
   ]
  },
  {
   "cell_type": "code",
   "execution_count": 19,
   "metadata": {},
   "outputs": [],
   "source": [
    "from sklearn.metrics import roc_curve, accuracy_score"
   ]
  },
  {
   "cell_type": "code",
   "execution_count": 20,
   "metadata": {},
   "outputs": [],
   "source": [
    "pred_y = model.predict(x_test)"
   ]
  },
  {
   "cell_type": "code",
   "execution_count": 21,
   "metadata": {},
   "outputs": [
    {
     "name": "stdout",
     "output_type": "stream",
     "text": [
      "Accuracy of the model on test data: 92.17 %\n"
     ]
    }
   ],
   "source": [
    "print('Accuracy of the model on test data:',round(accuracy_score(y_test,pred_y)*100,2),\"%\")"
   ]
  },
  {
   "cell_type": "markdown",
   "metadata": {},
   "source": [
    "#### 1. n_estimator"
   ]
  },
  {
   "cell_type": "code",
   "execution_count": 22,
   "metadata": {},
   "outputs": [
    {
     "data": {
      "image/png": "[encoded data removed]",
      "text/plain": [
       "<Figure size 432x288 with 1 Axes>"
      ]
     },
     "metadata": {
      "needs_background": "light"
     },
     "output_type": "display_data"
    },
    {
     "name": "stdout",
     "output_type": "stream",
     "text": [
      "Output:\n",
      "Training data -  Accuracy:  100.0 for n_estimators:  170\n",
      "Test data -  Accuracy:  91.36 for n_estimators:  170\n"
     ]
    }
   ],
   "source": [
    "from sklearn.model_selection import validation_curve\n",
    "\n",
    "from sklearn.tree import DecisionTreeClassifier\n",
    "\n",
    "clf = sklearn.ensemble.BaggingClassifier(base_estimator=DecisionTreeClassifier(), oob_score=True, random_state=50)\n",
    "\n",
    "n_estimator = [5,10,20,50,70,100,120,150,170,200,270,300]\n",
    "\n",
    "train_score, test_score = validation_curve(clf, x_train, y_train,'n_estimators',n_estimator,cv=4,\n",
    "                                           scoring='accuracy',n_jobs=-1)\n",
    "\n",
    "train_scores_mean = np.mean(train_score, axis=1)\n",
    "test_scores_mean = np.mean(test_score, axis=1)\n",
    "\n",
    "#plotting train and test error\n",
    "plt.plot(n_estimator, train_scores_mean, label=\"Training score\",color=\"blue\")\n",
    "plt.plot(n_estimator, test_scores_mean, label=\"Cross-validation score\",color=\"red\")\n",
    "plt.title(\"Validation curve with Bagging Model\")\n",
    "plt.xlabel(\"n_estimators\")\n",
    "plt.ylabel(\"Accuracy score\")\n",
    "plt.legend(loc = 'best')\n",
    "plt.show()\n",
    "\n",
    "estimate = n_estimator[test_scores_mean.argmax()]\n",
    "\n",
    "print('Output:')\n",
    "\n",
    "print('Training data - ','Accuracy: ',round(train_scores_mean.max()*100,2), 'for n_estimators: ',estimate)\n",
    "print('Test data - ','Accuracy: ',round(test_scores_mean.max()*100,2), 'for n_estimators: ',estimate)"
   ]
  },
  {
   "cell_type": "markdown",
   "metadata": {},
   "source": [
    "#### 2. max_sample"
   ]
  },
  {
   "cell_type": "code",
   "execution_count": 23,
   "metadata": {},
   "outputs": [
    {
     "data": {
      "image/png": "[encoded data removed]",
      "text/plain": [
       "<Figure size 432x288 with 1 Axes>"
      ]
     },
     "metadata": {
      "needs_background": "light"
     },
     "output_type": "display_data"
    },
    {
     "name": "stdout",
     "output_type": "stream",
     "text": [
      "Output:\n",
      "Training data -  Accuracy:  94.38 for max_samples:  400\n",
      "Test data -  Accuracy:  87.64 for max_samples:  400\n"
     ]
    }
   ],
   "source": [
    "from sklearn.model_selection import validation_curve\n",
    "\n",
    "from sklearn.tree import DecisionTreeClassifier\n",
    "\n",
    "clf = sklearn.ensemble.BaggingClassifier(base_estimator=DecisionTreeClassifier(), oob_score=True, random_state=50)\n",
    "\n",
    "max_sample = [2,4,6,8,10,12,14,16,18,20,50,60,75,90,100,120,150,175,200,250,300,350,400,500]\n",
    "\n",
    "train_score, test_score = validation_curve(clf, x_train, y_train,'max_samples',max_sample,cv=4,\n",
    "                                           scoring='accuracy',n_jobs=-1)\n",
    "\n",
    "train_scores_mean = np.mean(train_score, axis=1)\n",
    "test_scores_mean = np.mean(test_score, axis=1)\n",
    "\n",
    "#plotting train and test error\n",
    "plt.plot(max_sample, train_scores_mean, label=\"Training score\",color=\"blue\")\n",
    "plt.plot(max_sample, test_scores_mean, label=\"Cross-validation score\",color=\"red\")\n",
    "plt.title(\"Validation curve with Bagging Model\")\n",
    "plt.xlabel(\"n_estimators\")\n",
    "plt.ylabel(\"Accuracy score\")\n",
    "plt.legend(loc = 'best')\n",
    "plt.show()\n",
    "\n",
    "estimate = max_sample[test_scores_mean.argmax()]\n",
    "\n",
    "print('Output:')\n",
    "\n",
    "print('Training data - ','Accuracy: ',round(train_scores_mean.max()*100,2), 'for max_samples: ',estimate)\n",
    "print('Test data - ','Accuracy: ',round(test_scores_mean.max()*100,2), 'for max_samples: ',estimate)"
   ]
  },
  {
   "cell_type": "markdown",
   "metadata": {},
   "source": [
    "#### 3. max_feature"
   ]
  },
  {
   "cell_type": "code",
   "execution_count": 24,
   "metadata": {},
   "outputs": [
    {
     "data": {
      "image/png": "[encoded data removed]",
      "text/plain": [
       "<Figure size 432x288 with 1 Axes>"
      ]
     },
     "metadata": {
      "needs_background": "light"
     },
     "output_type": "display_data"
    },
    {
     "name": "stdout",
     "output_type": "stream",
     "text": [
      "Output:\n",
      "Training data -  Accuracy:  99.74 for max_features:  8\n",
      "Test data -  Accuracy:  91.16 for max_features:  8\n"
     ]
    }
   ],
   "source": [
    "max_feature = [1,2,3,4,5,6,7,8]\n",
    "\n",
    "train_score, test_score = validation_curve(clf, x_train, y_train,'max_features',max_feature,\n",
    "                                           cv=4,scoring='accuracy',n_jobs=-1)\n",
    "\n",
    "train_scores_mean = np.mean(train_score, axis=1)\n",
    "test_scores_mean = np.mean(test_score, axis=1)\n",
    "\n",
    "#plotting train and test error\n",
    "plt.plot(max_feature, train_scores_mean, label=\"Training score\",color=\"blue\")\n",
    "plt.plot(max_feature, test_scores_mean, label=\"Cross-validation score\",color=\"red\")\n",
    "plt.title(\"Validation curve with Bagging Model\")\n",
    "plt.xlabel(\"max_feature\")\n",
    "plt.ylabel(\"Accuracy score\")\n",
    "plt.legend(loc = 'best')\n",
    "plt.show()\n",
    "\n",
    "estimate = max_feature[test_scores_mean.argmax()]\n",
    "\n",
    "print('Output:')\n",
    "\n",
    "print('Training data - ','Accuracy: ',round(train_scores_mean.max()*100,2), 'for max_features: ',estimate)\n",
    "print('Test data - ','Accuracy: ',round(test_scores_mean.max()*100,2), 'for max_features: ',estimate)"
   ]
  },
  {
   "cell_type": "code",
   "execution_count": 25,
   "metadata": {},
   "outputs": [
    {
     "name": "stdout",
     "output_type": "stream",
     "text": [
      "best parameters:  {'n_estimators': 270, 'max_samples': 400, 'max_features': 2}\n"
     ]
    }
   ],
   "source": [
    "from sklearn.model_selection import RandomizedSearchCV\n",
    "\n",
    "tuning_parameters = [{'max_features': [1,2,3,4,5,6,7,8],\n",
    "                      'max_samples': [150,175,200,250,300,350,400,500],\n",
    "                     'n_estimators': [5,10,20,50,70,100,120,150,170,200,270,300]}]\n",
    "\n",
    "bag_model = sklearn.ensemble.BaggingClassifier(base_estimator=DecisionTreeClassifier(),random_state=50, oob_score=True)\n",
    "\n",
    "bag_grid = RandomizedSearchCV(estimator=bag_model, n_iter = 100,param_distributions=tuning_parameters,\n",
    "                             n_jobs=-1,cv= 4, scoring='accuracy')\n",
    "\n",
    "bag_grid.fit(x_train,y_train)\n",
    "\n",
    "print('best parameters: ',bag_grid.best_params_)"
   ]
  },
  {
   "cell_type": "code",
   "execution_count": 26,
   "metadata": {},
   "outputs": [
    {
     "data": {
      "text/plain": [
       "BaggingClassifier(base_estimator=DecisionTreeClassifier(ccp_alpha=0.0,\n",
       "                                                        class_weight=None,\n",
       "                                                        criterion='gini',\n",
       "                                                        max_depth=None,\n",
       "                                                        max_features=None,\n",
       "                                                        max_leaf_nodes=None,\n",
       "                                                        min_impurity_decrease=0.0,\n",
       "                                                        min_impurity_split=None,\n",
       "                                                        min_samples_leaf=1,\n",
       "                                                        min_samples_split=2,\n",
       "                                                        min_weight_fraction_leaf=0.0,\n",
       "                                                        presort='deprecated',\n",
       "                                                        random_state=None,\n",
       "                                                        splitter='best'),\n",
       "                  bootstrap=True, bootstrap_features=False, max_features=2,\n",
       "                  max_samples=400, n_estimators=70, n_jobs=None, oob_score=True,\n",
       "                  random_state=50, verbose=0, warm_start=False)"
      ]
     },
     "execution_count": 26,
     "metadata": {},
     "output_type": "execute_result"
    }
   ],
   "source": [
    "RSCV_model = sklearn.ensemble.BaggingClassifier(base_estimator=DecisionTreeClassifier(),max_features=2,\n",
    "                                                max_samples=400,n_estimators=70,random_state=50, oob_score=True)\n",
    "RSCV_model.fit(x_train,y_train)"
   ]
  },
  {
   "cell_type": "code",
   "execution_count": 27,
   "metadata": {},
   "outputs": [
    {
     "data": {
      "text/plain": [
       "BaggingClassifier(base_estimator=DecisionTreeClassifier(ccp_alpha=0.0,\n",
       "                                                        class_weight=None,\n",
       "                                                        criterion='gini',\n",
       "                                                        max_depth=None,\n",
       "                                                        max_features=None,\n",
       "                                                        max_leaf_nodes=None,\n",
       "                                                        min_impurity_decrease=0.0,\n",
       "                                                        min_impurity_split=None,\n",
       "                                                        min_samples_leaf=1,\n",
       "                                                        min_samples_split=2,\n",
       "                                                        min_weight_fraction_leaf=0.0,\n",
       "                                                        presort='deprecated',\n",
       "                                                        random_state=None,\n",
       "                                                        splitter='best'),\n",
       "                  bootstrap=True, bootstrap_features=False, max_features=2,\n",
       "                  max_samples=400, n_estimators=70, n_jobs=None, oob_score=True,\n",
       "                  random_state=50, verbose=0, warm_start=False)"
      ]
     },
     "execution_count": 27,
     "metadata": {},
     "output_type": "execute_result"
    }
   ],
   "source": [
    "VC_model = sklearn.ensemble.BaggingClassifier(base_estimator=DecisionTreeClassifier(),max_features=2,\n",
    "                                                max_samples=400,n_estimators=70,random_state=50, oob_score=True)\n",
    "VC_model.fit(x_train,y_train)"
   ]
  },
  {
   "cell_type": "code",
   "execution_count": 28,
   "metadata": {},
   "outputs": [
    {
     "name": "stdout",
     "output_type": "stream",
     "text": [
      "Accuracy of the model on test data: 92.05 %\n"
     ]
    }
   ],
   "source": [
    "# Confusion Matrix, ROC_AUC_Score and Accuracy Score\n",
    "\n",
    "from sklearn.metrics import accuracy_score\n",
    "\n",
    "print('Accuracy of the model on test data:',round(accuracy_score(y_test,VC_model.predict(x_test))*100,2),\"%\")\n"
   ]
  },
  {
   "cell_type": "markdown",
   "metadata": {},
   "source": [
    "**Final Observation:**\n",
    "    \n",
    "        When n_estimators = 70, model got 92.05 % accuracy, So we will use n_estimators = 70, max_featues = 2 and max_samples = 400 for a good model."
   ]
  },
  {
   "cell_type": "markdown",
   "metadata": {},
   "source": [
    "**Observation:**\n",
    "    1. Bagging Model has a accuracy of 92.05 % and RandomForest Model after tunning hyperparameter has a accuracy of 91.56% on this dataset."
   ]
  },
  {
   "cell_type": "code",
   "execution_count": null,
   "metadata": {},
   "outputs": [],
   "source": []
  },
  {
   "cell_type": "code",
   "execution_count": null,
   "metadata": {},
   "outputs": [],
   "source": []
  }
 ],
 "metadata": {
  "kernelspec": {
   "display_name": "Python 3",
   "language": "python",
   "name": "python3"
  },
  "language_info": {
   "codemirror_mode": {
    "name": "ipython",
    "version": 3
   },
   "file_extension": ".py",
   "mimetype": "text/x-python",
   "name": "python",
   "nbconvert_exporter": "python",
   "pygments_lexer": "ipython3",
   "version": "3.7.3"
  }
 },
 "nbformat": 4,
 "nbformat_minor": 2
}
