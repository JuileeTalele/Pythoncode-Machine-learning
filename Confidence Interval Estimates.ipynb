{
 "cells": [
  {
   "cell_type": "markdown",
   "metadata": {},
   "source": [
    "## Sampling Distribution\n",
    "\n",
    "Refer attrition data"
   ]
  },
  {
   "cell_type": "markdown",
   "metadata": {},
   "source": [
    "**A) Use Monthly Income column from the dataset attrition.csv**"
   ]
  },
  {
   "cell_type": "code",
   "execution_count": 1,
   "metadata": {},
   "outputs": [],
   "source": [
    "#Include all packages that will be needed to make our estimates, plots, graphs, calculations, etc.\n",
    "\n",
    "import os\n",
    "import pandas as pd\n",
    "import numpy as np\n",
    "import matplotlib.pyplot as plt\n",
    "import seaborn as sns\n",
    "import random\n",
    "sns.set(rc={'figure.figsize':(12,8)})                              #setting the size of graph figure to 12:8\n",
    "\n",
    "att = pd.read_csv(\"/Users/rachita/Desktop/Python/attrition.csv\")   #reading the attrition file into att"
   ]
  },
  {
   "cell_type": "markdown",
   "metadata": {},
   "source": [
    "**Q1. Consider entire variable as a population and calculate population mean**"
   ]
  },
  {
   "cell_type": "code",
   "execution_count": 97,
   "metadata": {},
   "outputs": [
    {
     "name": "stdout",
     "output_type": "stream",
     "text": [
      "Population mean is : 6502.931292517007\n"
     ]
    }
   ],
   "source": [
    "population_income = att.MonthlyIncome                        #selecting Monthly Income as Population\n",
    "print(\"Population mean is :\", np.mean(population_income))    #calculating mean of Population"
   ]
  },
  {
   "cell_type": "markdown",
   "metadata": {},
   "source": [
    "**Q2. Select sample s of size = 200 from the population and calculate 95% Confidence Interval estimate of the population mean** "
   ]
  },
  {
   "cell_type": "code",
   "execution_count": 103,
   "metadata": {},
   "outputs": [
    {
     "name": "stdout",
     "output_type": "stream",
     "text": [
      "Range of Confidence Interval lies between :  5821.918156930799  and  7068.841843069201\n",
      "Sample mean is :  6445.38 We can notice that this value falls within the above range of CI.\n"
     ]
    }
   ],
   "source": [
    "sample_income = att.MonthlyIncome.sample(n=200)              #selecting a random sample from MonthlyIncome of n=200\n",
    "\n",
    "#calculating 95% Confidence Interval Estimates. According to Standard Normal Table z-score of 95% is 1.96 \n",
    "#using formula, calculate the value of a \n",
    "a = (np.mean(sample_income) - ((1.96)*(np.std(sample_income)/np.sqrt(200))))\n",
    "#using formula, calculate the value of b\n",
    "b = (np.mean(sample_income) + ((1.96)*(np.std(sample_income)/np.sqrt(200))))\n",
    "\n",
    "print(\"Range of Confidence Interval lies between : \",a,\" and \",b)\n",
    "print(\"Sample mean is : \",np.mean(sample_income),\"We can notice that this value falls within the above range of CI.\")\n"
   ]
  },
  {
   "cell_type": "markdown",
   "metadata": {},
   "source": [
    "**Q3. Repeat step 2 1000 times and check how many of those CI captures the true population mean**"
   ]
  },
  {
   "cell_type": "code",
   "execution_count": 105,
   "metadata": {},
   "outputs": [
    {
     "name": "stdout",
     "output_type": "stream",
     "text": [
      "The number of times true mean was captured in the interval : 943\n",
      "The number of times true mean was not captured in the interval : 57\n"
     ]
    }
   ],
   "source": [
    "true_count = 0\n",
    "false_count = 0\n",
    "\n",
    "#repeating the bootstrap 1000 times, everytime calculating fresh value of a & b \n",
    "#and checking if the sample mean falls within that range or not.\n",
    "\n",
    "for i in range(1000):\n",
    "    sample_income_d = np.random.choice(sample_income,200,replace = True)         #bootstrapping sample\n",
    "    s_mean = int(np.mean(sample_income))\n",
    "    \n",
    "    a = int(np.mean(sample_income_d) - ((1.96)*(np.std(sample_income_d)/np.sqrt(200))))\n",
    "    b = int(np.mean(sample_income_d) + ((1.96)*(np.std(sample_income_d)/np.sqrt(200))))\n",
    "\n",
    "    if s_mean in range(a,b):\n",
    "        true_count += 1     #returning the count of times true mean was captured within range\n",
    "    else:\n",
    "        false_count += 1    #returning the count of times true mean was not captured within range\n",
    "\n",
    "print(\"The number of times true mean was captured in the interval :\",true_count)\n",
    "print(\"The number of times true mean was not captured in the interval :\",false_count)\n"
   ]
  },
  {
   "cell_type": "markdown",
   "metadata": {},
   "source": [
    "**Inference :** 95% CI will capture the true population mean, i.e, 1 out of every 10 samples or 5 out of every 100 samples will not be able to capture the population mean.\n",
    "We can conclude that we have a 95% chance of capturing the true mean of the population. "
   ]
  },
  {
   "cell_type": "markdown",
   "metadata": {},
   "source": [
    "**B) Wide vs. Narrow Confidence Interval**"
   ]
  },
  {
   "cell_type": "markdown",
   "metadata": {},
   "source": [
    "**Q1. Collect a sample s of size 200 from the population and calculate**\n",
    "**a) CI = 90%**\n",
    "**b) CI = 99%**"
   ]
  },
  {
   "cell_type": "code",
   "execution_count": 113,
   "metadata": {},
   "outputs": [
    {
     "name": "stdout",
     "output_type": "stream",
     "text": [
      "For 90% CI the range varies between : 5983.565276525884 and  7091.504723474116\n",
      "Difference between the range is : 1107.9394469482322\n",
      "For 99% CI the range varies between : 5670.378745929575 and  7404.691254070424\n",
      "Difference between the range is : 1734.3125081408489\n",
      "Sample mean is : 6537.535\n"
     ]
    }
   ],
   "source": [
    "#extracting a sample of size 200 from the population data\n",
    "sample_income = att.MonthlyIncome.sample(n=200)\n",
    "\n",
    "#calculating 90% Confidence Interval Estimates. According to Standard Normal Table z-score of 90% is 1.645\n",
    "a = (np.mean(sample_income) - ((1.645)*(np.std(sample_income)/np.sqrt(200))))\n",
    "b = (np.mean(sample_income) + ((1.645)*(np.std(sample_income)/np.sqrt(200))))\n",
    "print(\"For 90% CI the range varies between :\",a, \"and \",b)\n",
    "print(\"Difference between the range is :\",b-a)\n",
    "\n",
    "#calculating 99% Confidence Interval Estimates. According to Standard Normal Table z-score of 99% is 2.575\n",
    "a = (np.mean(sample_income) - ((2.575)*(np.std(sample_income)/np.sqrt(200))))\n",
    "b = (np.mean(sample_income) + ((2.575)*(np.std(sample_income)/np.sqrt(200))))\n",
    "print(\"For 99% CI the range varies between :\",a, \"and \",b)\n",
    "print(\"Difference between the range is :\",b-a)\n",
    "print(\"Sample mean is :\",np.mean(sample_income))\n"
   ]
  },
  {
   "cell_type": "markdown",
   "metadata": {},
   "source": [
    "**Note :** Both the intervals of 90% CI & 99% CI are able to capture the mean, with 95% confidence"
   ]
  },
  {
   "cell_type": "markdown",
   "metadata": {},
   "source": [
    "a) Which one is wider ? Why ?\n",
    "\n",
    "99% CI is wider that 90% Ci as its value is spread is larger. Also, alpha_1 is 10% which is split to 5% on each side. Whereas, alpha_2 is just 1%, which is further split into 0.5% on each side of the distribution."
   ]
  },
  {
   "cell_type": "markdown",
   "metadata": {},
   "source": [
    "**Q2. Collect 2 samples from the population S1 of size 200 and s2 of size 400. using both the samples calculate a 90% CI estimate of population mean**"
   ]
  },
  {
   "cell_type": "code",
   "execution_count": 120,
   "metadata": {},
   "outputs": [
    {
     "name": "stdout",
     "output_type": "stream",
     "text": [
      "For 90% CI the range varies between : 6007.317964217904 and  7086.622035782097\n",
      "Difference between a & b : 1079.3040715641928\n",
      "For 90% CI the range varies between : 5916.511605180337 and  6662.603394819663\n",
      "Difference between a & b : 746.0917896393257\n"
     ]
    }
   ],
   "source": [
    "#According to Standard Normal Table z-score of 90% is 1.645\n",
    "\n",
    "#extracting a sample of size 200 from the population data\n",
    "sample_income_1 = att.MonthlyIncome.sample(n=200)\n",
    "a = (np.mean(sample_income_1) - ((1.645)*(np.std(sample_income_1)/np.sqrt(200))))\n",
    "b = (np.mean(sample_income_1) + ((1.645)*(np.std(sample_income_1)/np.sqrt(200))))\n",
    "print(\"For 90% CI the range varies between :\",a, \"and \",b)\n",
    "print(\"Difference between a & b :\",b-a)\n",
    "\n",
    "\n",
    "#extracting a sample of size 400 from the population data\n",
    "sample_income_2 = att.MonthlyIncome.sample(n=400)\n",
    "#sample_income_2=att.MonthlyIncome.sample(n=400)\n",
    "a = (np.mean(sample_income_2) - ((1.645)*(np.std(sample_income_2)/np.sqrt(400))))\n",
    "b = (np.mean(sample_income_2) + ((1.645)*(np.std(sample_income_2)/np.sqrt(400))))\n",
    "print(\"For 90% CI the range varies between :\",a, \"and \",b)\n",
    "print(\"Difference between a & b :\",b-a)\n"
   ]
  },
  {
   "cell_type": "markdown",
   "metadata": {},
   "source": [
    "a) Theoretically, which one would you expect to be narrower & why ?"
   ]
  },
  {
   "cell_type": "markdown",
   "metadata": {},
   "source": [
    "**Inference :** We would expect the second one to be narrower because as sample size increases our Confidence Interval becomes more precise and hence, thinner."
   ]
  },
  {
   "cell_type": "markdown",
   "metadata": {},
   "source": [
    "#### Conclusion : Thus we have studied the different CI estimates and their reasons for being narrow or wide."
   ]
  }
 ],
 "metadata": {
  "kernelspec": {
   "display_name": "Python 3",
   "language": "python",
   "name": "python3"
  },
  "language_info": {
   "codemirror_mode": {
    "name": "ipython",
    "version": 3
   },
   "file_extension": ".py",
   "mimetype": "text/x-python",
   "name": "python",
   "nbconvert_exporter": "python",
   "pygments_lexer": "ipython3",
   "version": "3.7.3"
  }
 },
 "nbformat": 4,
 "nbformat_minor": 2
}
